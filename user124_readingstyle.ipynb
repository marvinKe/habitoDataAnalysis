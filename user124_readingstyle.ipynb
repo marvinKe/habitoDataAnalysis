{
 "cells": [
  {
   "cell_type": "code",
   "execution_count": 1,
   "metadata": {},
   "outputs": [],
   "source": [
    "import numpy as np\n",
    "import pandas as pd \n",
    "import pylab as pl\n",
    "from matplotlib import pyplot as plt #画图\n",
    "from sklearn.cluster import KMeans \n",
    "plt.rcParams['figure.figsize'] = (16,9)\n",
    "plt.style.use('ggplot')\n",
    "\n",
    "from mpl_toolkits import mplot3d\n",
    "%matplotlib inline\n",
    "import numpy as np\n",
    "import matplotlib.pyplot as plt\n",
    "import pandas as pd\n",
    "# import pandas_datareader as datareader\n",
    "import matplotlib.pyplot as plt\n",
    "import datetime\n",
    "from mpl_finance import candlestick_ohlc\n",
    "# from mpl_finance import candlestick_ohlc\n",
    "import matplotlib.dates as mdates"
   ]
  },
  {
   "cell_type": "markdown",
   "metadata": {},
   "source": [
    "reading data from reading_scroll_features table and some data cleaning "
   ]
  },
  {
   "cell_type": "code",
   "execution_count": 3,
   "metadata": {},
   "outputs": [],
   "source": [
    "data = pd.read_csv('dataa/reading_scroll_features.csv')\n",
    "data = data[data['relative_time'] < 2000]\n",
    "\n"
   ]
  },
  {
   "cell_type": "markdown",
   "metadata": {},
   "source": [
    "display how each user's reading relative time distributed. "
   ]
  },
  {
   "cell_type": "code",
   "execution_count": 4,
   "metadata": {},
   "outputs": [
    {
     "name": "stdout",
     "output_type": "stream",
     "text": [
      "(7692,)\n",
      "(7692,)\n",
      "(7692, 2)\n"
     ]
    },
    {
     "data": {
      "text/plain": [
       "<matplotlib.collections.PathCollection at 0x10ae51198>"
      ]
     },
     "execution_count": 4,
     "metadata": {},
     "output_type": "execute_result"
    },
    {
     "data": {
      "image/png": "[encoded data removed]",
      "text/plain": [
       "<Figure size 432x288 with 1 Axes>"
      ]
     },
     "metadata": {
      "needs_background": "light"
     },
     "output_type": "display_data"
    }
   ],
   "source": [
    "f1 = data['relative_time'].values\n",
    "print(f1.shape)\n",
    "f2= data['user_id'].values\n",
    "print(f2.shape)\n",
    "x = np.array(list(zip(f1,f2)))\n",
    "print(x.shape)\n",
    "plt.scatter(f1,f2, c='black', s=7)\n",
    "#filter data 1.filtered() 2.sql \n",
    "\n"
   ]
  },
  {
   "cell_type": "code",
   "execution_count": 5,
   "metadata": {},
   "outputs": [],
   "source": [
    "# for index, row in data.iterrows():\n",
    "#     if row['offset_difference'] < 0:\n",
    "#         temp = row['max_offset']\n",
    "#         row['max_offset'] = row['min_offset']\n",
    "#        row['min_offset'] = temp\n",
    "#         print(row['max_offset'],row['min_offset'],row['offset_difference'])\n",
    "#         np.append([row['max_offset'],row['min_offset'],row['offset_difference']],a)\n",
    "#     if row['offset_difference'] > 0:\n",
    "#         np.append([row['max_offset'],row['min_offset'],row['offset_difference']],a)\n",
    "#         print(row['max_offset'],row['min_offset'],row['offset_difference'])\n",
    "\n"
   ]
  },
  {
   "cell_type": "markdown",
   "metadata": {},
   "source": [
    "display reading style by users"
   ]
  },
  {
   "cell_type": "code",
   "execution_count": 6,
   "metadata": {},
   "outputs": [
    {
     "data": {
      "text/html": [
       "<div>\n",
       "<style scoped>\n",
       "    .dataframe tbody tr th:only-of-type {\n",
       "        vertical-align: middle;\n",
       "    }\n",
       "\n",
       "    .dataframe tbody tr th {\n",
       "        vertical-align: top;\n",
       "    }\n",
       "\n",
       "    .dataframe thead th {\n",
       "        text-align: right;\n",
       "    }\n",
       "</style>\n",
       "<table border=\"1\" class=\"dataframe\">\n",
       "  <thead>\n",
       "    <tr style=\"text-align: right;\">\n",
       "      <th></th>\n",
       "      <th>user_id</th>\n",
       "      <th>reading_session</th>\n",
       "      <th>article_id</th>\n",
       "      <th>max_offset</th>\n",
       "      <th>min_offset</th>\n",
       "      <th>offset_difference</th>\n",
       "      <th>relative_time</th>\n",
       "    </tr>\n",
       "  </thead>\n",
       "  <tbody>\n",
       "    <tr>\n",
       "      <th>106</th>\n",
       "      <td>124</td>\n",
       "      <td>c163ec0f-3639-49ef-b926-1965202de3be</td>\n",
       "      <td>36537821</td>\n",
       "      <td>417</td>\n",
       "      <td>14</td>\n",
       "      <td>403</td>\n",
       "      <td>0</td>\n",
       "    </tr>\n",
       "    <tr>\n",
       "      <th>107</th>\n",
       "      <td>124</td>\n",
       "      <td>c163ec0f-3639-49ef-b926-1965202de3be</td>\n",
       "      <td>36537821</td>\n",
       "      <td>2239</td>\n",
       "      <td>471</td>\n",
       "      <td>1768</td>\n",
       "      <td>1</td>\n",
       "    </tr>\n",
       "    <tr>\n",
       "      <th>108</th>\n",
       "      <td>124</td>\n",
       "      <td>c163ec0f-3639-49ef-b926-1965202de3be</td>\n",
       "      <td>36537821</td>\n",
       "      <td>2828</td>\n",
       "      <td>2263</td>\n",
       "      <td>565</td>\n",
       "      <td>2</td>\n",
       "    </tr>\n",
       "    <tr>\n",
       "      <th>109</th>\n",
       "      <td>124</td>\n",
       "      <td>c163ec0f-3639-49ef-b926-1965202de3be</td>\n",
       "      <td>36537821</td>\n",
       "      <td>2802</td>\n",
       "      <td>1159</td>\n",
       "      <td>-1643</td>\n",
       "      <td>4</td>\n",
       "    </tr>\n",
       "    <tr>\n",
       "      <th>110</th>\n",
       "      <td>124</td>\n",
       "      <td>c163ec0f-3639-49ef-b926-1965202de3be</td>\n",
       "      <td>36537821</td>\n",
       "      <td>1114</td>\n",
       "      <td>496</td>\n",
       "      <td>-618</td>\n",
       "      <td>5</td>\n",
       "    </tr>\n",
       "  </tbody>\n",
       "</table>\n",
       "</div>"
      ],
      "text/plain": [
       "     user_id                       reading_session  article_id  max_offset  \\\n",
       "106      124  c163ec0f-3639-49ef-b926-1965202de3be    36537821         417   \n",
       "107      124  c163ec0f-3639-49ef-b926-1965202de3be    36537821        2239   \n",
       "108      124  c163ec0f-3639-49ef-b926-1965202de3be    36537821        2828   \n",
       "109      124  c163ec0f-3639-49ef-b926-1965202de3be    36537821        2802   \n",
       "110      124  c163ec0f-3639-49ef-b926-1965202de3be    36537821        1114   \n",
       "\n",
       "     min_offset  offset_difference  relative_time  \n",
       "106          14                403              0  \n",
       "107         471               1768              1  \n",
       "108        2263                565              2  \n",
       "109        1159              -1643              4  \n",
       "110         496               -618              5  "
      ]
     },
     "execution_count": 6,
     "metadata": {},
     "output_type": "execute_result"
    }
   ],
   "source": [
    "pd.options.display.max_rows = 1000\n",
    "filtered_data =  data[(data['user_id'] == 124)]\n",
    "filtered_data.head()\n",
    "\n",
    "\n"
   ]
  },
  {
   "cell_type": "code",
   "execution_count": 7,
   "metadata": {},
   "outputs": [],
   "source": [
    "filtered_data1 = filtered_data[(filtered_data['article_id'] ==36537821 )]\n",
    "filtered_data2 = filtered_data[(filtered_data['article_id'] ==36551464 )]\n",
    "filtered_data3 = filtered_data[(filtered_data['article_id'] ==36573970 )]\n",
    "filtered_data4 = filtered_data[(filtered_data['article_id'] ==36575493 )]\n",
    "filtered_data5 = filtered_data[(filtered_data['article_id'] ==36575947 )]\n",
    "filtered_data6 = filtered_data[(filtered_data['article_id'] ==36598140 )]\n",
    "\n",
    "# + --------------- +\n",
    "# | article_id      |\n",
    "# + --------------- +\n",
    "# | 36537821        |\n",
    "# | 36551464        |\n",
    "# | 36573970        |\n",
    "# | 36575493        |\n",
    "# | 36575947        |\n",
    "# | 36598140        |"
   ]
  },
  {
   "cell_type": "code",
   "execution_count": 8,
   "metadata": {},
   "outputs": [
    {
     "data": {
      "text/plain": [
       "([<matplotlib.lines.Line2D at 0x1a20cbef28>,\n",
       "  <matplotlib.lines.Line2D at 0x1a20cca588>,\n",
       "  <matplotlib.lines.Line2D at 0x1a20ccac18>,\n",
       "  <matplotlib.lines.Line2D at 0x1a20ccf2e8>,\n",
       "  <matplotlib.lines.Line2D at 0x1a20ccf978>,\n",
       "  <matplotlib.lines.Line2D at 0x1a20ccffd0>,\n",
       "  <matplotlib.lines.Line2D at 0x1a20cdc6d8>,\n",
       "  <matplotlib.lines.Line2D at 0x1a20cdcd68>,\n",
       "  <matplotlib.lines.Line2D at 0x1a20ce5438>,\n",
       "  <matplotlib.lines.Line2D at 0x1a20ce5ac8>,\n",
       "  <matplotlib.lines.Line2D at 0x1a20cee198>,\n",
       "  <matplotlib.lines.Line2D at 0x1a20cee828>,\n",
       "  <matplotlib.lines.Line2D at 0x1a20ceeeb8>],\n",
       " [<matplotlib.patches.Rectangle at 0x1a20cca0b8>,\n",
       "  <matplotlib.patches.Rectangle at 0x1a20cca748>,\n",
       "  <matplotlib.patches.Rectangle at 0x1a20ccadd8>,\n",
       "  <matplotlib.patches.Rectangle at 0x1a20ccf4a8>,\n",
       "  <matplotlib.patches.Rectangle at 0x1a20ccfb38>,\n",
       "  <matplotlib.patches.Rectangle at 0x1a20cdc208>,\n",
       "  <matplotlib.patches.Rectangle at 0x1a20cdc898>,\n",
       "  <matplotlib.patches.Rectangle at 0x1a20cdcf28>,\n",
       "  <matplotlib.patches.Rectangle at 0x1a20ce55f8>,\n",
       "  <matplotlib.patches.Rectangle at 0x1a20ce5c88>,\n",
       "  <matplotlib.patches.Rectangle at 0x1a20cee358>,\n",
       "  <matplotlib.patches.Rectangle at 0x1a20cee9e8>,\n",
       "  <matplotlib.patches.Rectangle at 0x1a20cf80b8>])"
      ]
     },
     "execution_count": 8,
     "metadata": {},
     "output_type": "execute_result"
    },
    {
     "data": {
      "image/png": "[encoded data removed]",
      "text/plain": [
       "<Figure size 1440x720 with 1 Axes>"
      ]
     },
     "metadata": {
      "needs_background": "light"
     },
     "output_type": "display_data"
    }
   ],
   "source": [
    "#for i in filtered_data: \n",
    "  #  if filtered_data['offset_difference'] > 0:\n",
    "  ##      ohlc= filtered_data[['relative_time', 'max_offset', 'max_offset', 'min_offset','min_offset']].copy()\n",
    " #   else:\n",
    "#        ohlc= filtered_data[['relative_time',  'min_offset','min_offset','max_offset', 'max_offset']].copy()\n",
    "        \n",
    "ohlc= filtered_data1[['relative_time', 'max_offset', 'max_offset', 'min_offset','min_offset']].copy()\n",
    "\n",
    "f1, ax = plt.subplots(figsize = (20,10))\n",
    "ax.set_xlabel('relative_time')\n",
    "ax.set_ylabel('scroll_offset')\n",
    "candlestick_ohlc(ax, ohlc.values, width=.6, colorup='green', colordown='red')\n",
    "\n",
    "\n"
   ]
  },
  {
   "cell_type": "code",
   "execution_count": 9,
   "metadata": {},
   "outputs": [
    {
     "data": {
      "text/plain": [
       "([<matplotlib.lines.Line2D at 0x1a21165208>,\n",
       "  <matplotlib.lines.Line2D at 0x1a21165828>,\n",
       "  <matplotlib.lines.Line2D at 0x1a21165eb8>,\n",
       "  <matplotlib.lines.Line2D at 0x1a21170588>,\n",
       "  <matplotlib.lines.Line2D at 0x1a21170c18>,\n",
       "  <matplotlib.lines.Line2D at 0x1a211782e8>,\n",
       "  <matplotlib.lines.Line2D at 0x1a21178978>,\n",
       "  <matplotlib.lines.Line2D at 0x1a21178fd0>,\n",
       "  <matplotlib.lines.Line2D at 0x1a211826d8>,\n",
       "  <matplotlib.lines.Line2D at 0x1a21182d68>,\n",
       "  <matplotlib.lines.Line2D at 0x1a2118c438>,\n",
       "  <matplotlib.lines.Line2D at 0x1a2118cac8>,\n",
       "  <matplotlib.lines.Line2D at 0x1a21196198>,\n",
       "  <matplotlib.lines.Line2D at 0x1a21196828>,\n",
       "  <matplotlib.lines.Line2D at 0x1a21196eb8>,\n",
       "  <matplotlib.lines.Line2D at 0x1a211a0588>],\n",
       " [<matplotlib.patches.Rectangle at 0x1a21165358>,\n",
       "  <matplotlib.patches.Rectangle at 0x1a211659e8>,\n",
       "  <matplotlib.patches.Rectangle at 0x1a211700b8>,\n",
       "  <matplotlib.patches.Rectangle at 0x1a21170748>,\n",
       "  <matplotlib.patches.Rectangle at 0x1a21170dd8>,\n",
       "  <matplotlib.patches.Rectangle at 0x1a211784a8>,\n",
       "  <matplotlib.patches.Rectangle at 0x1a21178b38>,\n",
       "  <matplotlib.patches.Rectangle at 0x1a21182208>,\n",
       "  <matplotlib.patches.Rectangle at 0x1a21182898>,\n",
       "  <matplotlib.patches.Rectangle at 0x1a21182f28>,\n",
       "  <matplotlib.patches.Rectangle at 0x1a2118c5f8>,\n",
       "  <matplotlib.patches.Rectangle at 0x1a2118cc88>,\n",
       "  <matplotlib.patches.Rectangle at 0x1a21196358>,\n",
       "  <matplotlib.patches.Rectangle at 0x1a211969e8>,\n",
       "  <matplotlib.patches.Rectangle at 0x1a211a00b8>,\n",
       "  <matplotlib.patches.Rectangle at 0x1a211a0748>])"
      ]
     },
     "execution_count": 9,
     "metadata": {},
     "output_type": "execute_result"
    },
    {
     "data": {
      "image/png": "[encoded data removed]",
      "text/plain": [
       "<Figure size 1440x720 with 1 Axes>"
      ]
     },
     "metadata": {
      "needs_background": "light"
     },
     "output_type": "display_data"
    }
   ],
   "source": [
    "ohlc= filtered_data2[['relative_time', 'max_offset', 'max_offset', 'min_offset','min_offset']].copy()\n",
    "\n",
    "f1, ax = plt.subplots(figsize = (20,10))\n",
    "ax.set_xlabel('relative_time')\n",
    "ax.set_ylabel('scroll_offset')\n",
    "candlestick_ohlc(ax, ohlc.values, width=.6, colorup='green', colordown='red')\n",
    "\n",
    "\n",
    "\n"
   ]
  },
  {
   "cell_type": "code",
   "execution_count": 10,
   "metadata": {},
   "outputs": [
    {
     "data": {
      "text/plain": [
       "([<matplotlib.lines.Line2D at 0x10ae74320>,\n",
       "  <matplotlib.lines.Line2D at 0x10ae74940>,\n",
       "  <matplotlib.lines.Line2D at 0x10ae74fd0>,\n",
       "  <matplotlib.lines.Line2D at 0x1a212056a0>,\n",
       "  <matplotlib.lines.Line2D at 0x1a21205d30>,\n",
       "  <matplotlib.lines.Line2D at 0x1a2120f400>,\n",
       "  <matplotlib.lines.Line2D at 0x1a2120fa90>,\n",
       "  <matplotlib.lines.Line2D at 0x1a21218160>,\n",
       "  <matplotlib.lines.Line2D at 0x1a212187f0>],\n",
       " [<matplotlib.patches.Rectangle at 0x10ae74470>,\n",
       "  <matplotlib.patches.Rectangle at 0x10ae74b00>,\n",
       "  <matplotlib.patches.Rectangle at 0x1a212051d0>,\n",
       "  <matplotlib.patches.Rectangle at 0x1a21205860>,\n",
       "  <matplotlib.patches.Rectangle at 0x1a21205ef0>,\n",
       "  <matplotlib.patches.Rectangle at 0x1a2120f5c0>,\n",
       "  <matplotlib.patches.Rectangle at 0x1a2120fc50>,\n",
       "  <matplotlib.patches.Rectangle at 0x1a21218320>,\n",
       "  <matplotlib.patches.Rectangle at 0x1a212189b0>])"
      ]
     },
     "execution_count": 10,
     "metadata": {},
     "output_type": "execute_result"
    },
    {
     "data": {
      "image/png": "[encoded data removed]",
      "text/plain": [
       "<Figure size 1440x720 with 1 Axes>"
      ]
     },
     "metadata": {
      "needs_background": "light"
     },
     "output_type": "display_data"
    }
   ],
   "source": [
    "ohlc= filtered_data3[['relative_time', 'max_offset', 'max_offset', 'min_offset','min_offset']].copy()\n",
    "\n",
    "f1, ax = plt.subplots(figsize = (20,10))\n",
    "ax.set_xlabel('relative_time')\n",
    "ax.set_ylabel('scroll_offset')\n",
    "candlestick_ohlc(ax, ohlc.values, width=.6, colorup='green', colordown='red')\n",
    "\n",
    "\n",
    "\n"
   ]
  },
  {
   "cell_type": "code",
   "execution_count": 11,
   "metadata": {},
   "outputs": [
    {
     "data": {
      "text/plain": [
       "([<matplotlib.lines.Line2D at 0x1a21281208>,\n",
       "  <matplotlib.lines.Line2D at 0x1a21281828>,\n",
       "  <matplotlib.lines.Line2D at 0x1a21281eb8>,\n",
       "  <matplotlib.lines.Line2D at 0x1a21288588>,\n",
       "  <matplotlib.lines.Line2D at 0x1a21288c18>,\n",
       "  <matplotlib.lines.Line2D at 0x1a212922e8>,\n",
       "  <matplotlib.lines.Line2D at 0x1a21292978>,\n",
       "  <matplotlib.lines.Line2D at 0x1a21292fd0>,\n",
       "  <matplotlib.lines.Line2D at 0x1a2129e6d8>,\n",
       "  <matplotlib.lines.Line2D at 0x1a2129ed68>,\n",
       "  <matplotlib.lines.Line2D at 0x1a212aa438>,\n",
       "  <matplotlib.lines.Line2D at 0x1a212aaac8>,\n",
       "  <matplotlib.lines.Line2D at 0x1a212b3198>,\n",
       "  <matplotlib.lines.Line2D at 0x1a212b3828>],\n",
       " [<matplotlib.patches.Rectangle at 0x1a21281358>,\n",
       "  <matplotlib.patches.Rectangle at 0x1a212819e8>,\n",
       "  <matplotlib.patches.Rectangle at 0x1a212880b8>,\n",
       "  <matplotlib.patches.Rectangle at 0x1a21288748>,\n",
       "  <matplotlib.patches.Rectangle at 0x1a21288dd8>,\n",
       "  <matplotlib.patches.Rectangle at 0x1a212924a8>,\n",
       "  <matplotlib.patches.Rectangle at 0x1a21292b38>,\n",
       "  <matplotlib.patches.Rectangle at 0x1a2129e208>,\n",
       "  <matplotlib.patches.Rectangle at 0x1a2129e898>,\n",
       "  <matplotlib.patches.Rectangle at 0x1a2129ef28>,\n",
       "  <matplotlib.patches.Rectangle at 0x1a212aa5f8>,\n",
       "  <matplotlib.patches.Rectangle at 0x1a212aac88>,\n",
       "  <matplotlib.patches.Rectangle at 0x1a212b3358>,\n",
       "  <matplotlib.patches.Rectangle at 0x1a212b39e8>])"
      ]
     },
     "execution_count": 11,
     "metadata": {},
     "output_type": "execute_result"
    },
    {
     "data": {
      "image/png": "[encoded data removed]",
      "text/plain": [
       "<Figure size 1440x720 with 1 Axes>"
      ]
     },
     "metadata": {
      "needs_background": "light"
     },
     "output_type": "display_data"
    }
   ],
   "source": [
    "ohlc= filtered_data4[['relative_time', 'max_offset', 'max_offset', 'min_offset','min_offset']].copy()\n",
    "\n",
    "f1, ax = plt.subplots(figsize = (20,10))\n",
    "ax.set_xlabel('relative_time')\n",
    "ax.set_ylabel('scroll_offset')\n",
    "candlestick_ohlc(ax, ohlc.values, width=.6, colorup='green', colordown='red')\n",
    "\n",
    "\n",
    "\n"
   ]
  },
  {
   "cell_type": "code",
   "execution_count": 12,
   "metadata": {},
   "outputs": [
    {
     "data": {
      "text/plain": [
       "([<matplotlib.lines.Line2D at 0x1a215c8518>,\n",
       "  <matplotlib.lines.Line2D at 0x1a215c8b38>,\n",
       "  <matplotlib.lines.Line2D at 0x1a215d3208>,\n",
       "  <matplotlib.lines.Line2D at 0x1a215d3898>,\n",
       "  <matplotlib.lines.Line2D at 0x1a215d3f28>,\n",
       "  <matplotlib.lines.Line2D at 0x1a215db5f8>,\n",
       "  <matplotlib.lines.Line2D at 0x1a215dbc88>,\n",
       "  <matplotlib.lines.Line2D at 0x1a215e6358>,\n",
       "  <matplotlib.lines.Line2D at 0x1a215e69e8>,\n",
       "  <matplotlib.lines.Line2D at 0x1a215f10b8>],\n",
       " [<matplotlib.patches.Rectangle at 0x1a215c8668>,\n",
       "  <matplotlib.patches.Rectangle at 0x1a215c8cf8>,\n",
       "  <matplotlib.patches.Rectangle at 0x1a215d33c8>,\n",
       "  <matplotlib.patches.Rectangle at 0x1a215d3a58>,\n",
       "  <matplotlib.patches.Rectangle at 0x1a215db128>,\n",
       "  <matplotlib.patches.Rectangle at 0x1a215db7b8>,\n",
       "  <matplotlib.patches.Rectangle at 0x1a215dbe48>,\n",
       "  <matplotlib.patches.Rectangle at 0x1a215e6518>,\n",
       "  <matplotlib.patches.Rectangle at 0x1a215e6ba8>,\n",
       "  <matplotlib.patches.Rectangle at 0x1a215f1278>])"
      ]
     },
     "execution_count": 12,
     "metadata": {},
     "output_type": "execute_result"
    },
    {
     "data": {
      "image/png": "[encoded data removed]",
      "text/plain": [
       "<Figure size 1440x720 with 1 Axes>"
      ]
     },
     "metadata": {
      "needs_background": "light"
     },
     "output_type": "display_data"
    }
   ],
   "source": [
    "ohlc= filtered_data5[['relative_time', 'max_offset', 'max_offset', 'min_offset','min_offset']].copy()\n",
    "\n",
    "f1, ax = plt.subplots(figsize = (20,10))\n",
    "ax.set_xlabel('relative_time')\n",
    "ax.set_ylabel('scroll_offset')\n",
    "candlestick_ohlc(ax, ohlc.values, width=.6, colorup='green', colordown='red')\n",
    "\n",
    "\n",
    "\n"
   ]
  },
  {
   "cell_type": "code",
   "execution_count": 13,
   "metadata": {},
   "outputs": [
    {
     "data": {
      "text/plain": [
       "([<matplotlib.lines.Line2D at 0x1a2165f2e8>,\n",
       "  <matplotlib.lines.Line2D at 0x1a2165f908>,\n",
       "  <matplotlib.lines.Line2D at 0x1a2165ff98>,\n",
       "  <matplotlib.lines.Line2D at 0x1a2166b668>,\n",
       "  <matplotlib.lines.Line2D at 0x1a2166bcf8>,\n",
       "  <matplotlib.lines.Line2D at 0x1a216723c8>,\n",
       "  <matplotlib.lines.Line2D at 0x1a21672a58>,\n",
       "  <matplotlib.lines.Line2D at 0x1a2167b128>,\n",
       "  <matplotlib.lines.Line2D at 0x1a2167b7b8>,\n",
       "  <matplotlib.lines.Line2D at 0x1a2167be48>,\n",
       "  <matplotlib.lines.Line2D at 0x1a21935518>,\n",
       "  <matplotlib.lines.Line2D at 0x1a21935ba8>],\n",
       " [<matplotlib.patches.Rectangle at 0x1a2165f438>,\n",
       "  <matplotlib.patches.Rectangle at 0x1a2165fac8>,\n",
       "  <matplotlib.patches.Rectangle at 0x1a2166b198>,\n",
       "  <matplotlib.patches.Rectangle at 0x1a2166b828>,\n",
       "  <matplotlib.patches.Rectangle at 0x1a2166beb8>,\n",
       "  <matplotlib.patches.Rectangle at 0x1a21672588>,\n",
       "  <matplotlib.patches.Rectangle at 0x1a21672c18>,\n",
       "  <matplotlib.patches.Rectangle at 0x1a2167b2e8>,\n",
       "  <matplotlib.patches.Rectangle at 0x1a2167b978>,\n",
       "  <matplotlib.patches.Rectangle at 0x1a21935048>,\n",
       "  <matplotlib.patches.Rectangle at 0x1a219356d8>,\n",
       "  <matplotlib.patches.Rectangle at 0x1a21935d68>])"
      ]
     },
     "execution_count": 13,
     "metadata": {},
     "output_type": "execute_result"
    },
    {
     "data": {
      "image/png": "[encoded data removed]",
      "text/plain": [
       "<Figure size 1440x720 with 1 Axes>"
      ]
     },
     "metadata": {
      "needs_background": "light"
     },
     "output_type": "display_data"
    }
   ],
   "source": [
    "ohlc= filtered_data6[['relative_time', 'max_offset', 'max_offset', 'min_offset','min_offset']].copy()\n",
    "\n",
    "f1, ax = plt.subplots(figsize = (20,10))\n",
    "ax.set_xlabel('relative_time')\n",
    "ax.set_ylabel('scroll_offset')\n",
    "candlestick_ohlc(ax, ohlc.values, width=.6, colorup='green', colordown='red')\n",
    "\n",
    "\n",
    "\n"
   ]
  }
 ],
 "metadata": {
  "kernelspec": {
   "display_name": "Python 3",
   "language": "python",
   "name": "python3"
  },
  "language_info": {
   "codemirror_mode": {
    "name": "ipython",
    "version": 3
   },
   "file_extension": ".py",
   "mimetype": "text/x-python",
   "name": "python",
   "nbconvert_exporter": "python",
   "pygments_lexer": "ipython3",
   "version": "3.6.6"
  }
 },
 "nbformat": 4,
 "nbformat_minor": 2
}
